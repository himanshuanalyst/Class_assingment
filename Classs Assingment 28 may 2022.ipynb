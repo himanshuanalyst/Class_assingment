{
 "cells": [
  {
   "cell_type": "raw",
   "id": "abefefc3",
   "metadata": {},
   "source": [
    "q1: \n",
    "ineroun \n",
    "ineroun ineroun\n",
    "ineroun ineroun ineroun\n",
    "ineroun ineroun ineroun ineroun"
   ]
  },
  {
   "cell_type": "code",
   "execution_count": 2,
   "id": "56af3bd8",
   "metadata": {},
   "outputs": [
    {
     "name": "stdout",
     "output_type": "stream",
     "text": [
      "\r\n",
      "ineroun \r\n",
      "ineroun ineroun \r\n",
      "ineroun ineroun ineroun \r\n",
      "ineroun ineroun ineroun ineroun \r\n"
     ]
    }
   ],
   "source": [
    "n=5\n",
    "for i in range(n):\n",
    "    for j in range(i):\n",
    "        print(\"ineroun\", end=\" \")\n",
    "    print(\"\\r\")    "
   ]
  },
  {
   "cell_type": "raw",
   "id": "992204f7",
   "metadata": {},
   "source": [
    "q2:\n",
    "            ineroun\n",
    "        ineroun   ineroun\n",
    "    ineroun  ineroun  ineroun\n",
    "        ineroun   ineroun\n",
    "            ineroun"
   ]
  },
  {
   "cell_type": "code",
   "execution_count": 119,
   "id": "2f3da24d",
   "metadata": {
    "scrolled": false
   },
   "outputs": [
    {
     "name": "stdout",
     "output_type": "stream",
     "text": [
      "                    ineroun \r\n",
      "                ineroun ineroun \r\n",
      "            ineroun ineroun ineroun \r\n",
      "        ineroun ineroun ineroun ineroun \r\n",
      "    ineroun ineroun ineroun ineroun ineroun \r\n",
      "ineroun ineroun ineroun ineroun ineroun ineroun \r\n",
      "    ineroun ineroun ineroun ineroun ineroun \r\n",
      "        ineroun ineroun ineroun ineroun \r\n",
      "            ineroun ineroun ineroun \r\n",
      "                ineroun ineroun \r\n",
      "                    ineroun \r\n"
     ]
    }
   ],
   "source": [
    "n=l=5\n",
    "m=n*2\n",
    "for i in range(m):\n",
    "    if i <= m//2:\n",
    "        for j in range(n,0,-1):\n",
    "            print(\"    \",end=\"\")\n",
    "        for j in range(-1,i):\n",
    "            print(\"ineroun\", end=\" \")\n",
    "        print(\"\\r\")\n",
    "        n=n-1\n",
    "else:\n",
    "    for k in range(l):\n",
    "        for j in range(0,k+1):\n",
    "            print(\"    \",end=\"\")\n",
    "        for j in range(l,0,-1):\n",
    "            print(\"ineroun\",end=\" \")\n",
    "        l=l-1\n",
    "        print(\"\\r\")\n",
    "    "
   ]
  },
  {
   "cell_type": "code",
   "execution_count": 240,
   "id": "a6b51bd4",
   "metadata": {},
   "outputs": [
    {
     "data": {
      "text/plain": [
       "[[1, 2, 3, 4],\n",
       " (2, 3, 4, 5, 6),\n",
       " (3, 4, 5, 6, 7),\n",
       " {4, 5, 23, 45},\n",
       " {'k1': 'sudh', 'k2': 'ineuron', 'k3': 'kumar', 3: 6, 7: 8},\n",
       " ['ineuron', 'data science']]"
      ]
     },
     "execution_count": 240,
     "metadata": {},
     "output_type": "execute_result"
    }
   ],
   "source": [
    "l = [[1,2,3,4],(2,3,4,5,6),(3,4,5,6,7), set ([23,4,5,45,4,4,5,45,45,4,5]),{'k1' : \"sudh\",\"k2\": \"ineuron\",\"k3\": \"kumar\",3:6,7:8},[\"ineuron\", \"data science\"]]\n",
    "l"
   ]
  },
  {
   "cell_type": "raw",
   "id": "8be3359e",
   "metadata": {},
   "source": [
    "q3: Try to exttract all the list entity"
   ]
  },
  {
   "cell_type": "code",
   "execution_count": 141,
   "id": "12b3c585",
   "metadata": {
    "scrolled": true
   },
   "outputs": [
    {
     "data": {
      "text/plain": [
       "[[1, 2, 3, 4], ['ineuron', 'data science']]"
      ]
     },
     "execution_count": 141,
     "metadata": {},
     "output_type": "execute_result"
    }
   ],
   "source": [
    "l3=[]\n",
    "for i in range(len(l)):\n",
    "    if type(l[i])==list:\n",
    "        l3.append(l[i])\n",
    "l3"
   ]
  },
  {
   "cell_type": "raw",
   "id": "347232d4",
   "metadata": {},
   "source": [
    "q4: Try to extract all the dict enteties"
   ]
  },
  {
   "cell_type": "code",
   "execution_count": 145,
   "id": "625e020f",
   "metadata": {},
   "outputs": [
    {
     "data": {
      "text/plain": [
       "[{'k1': 'sudh', 'k2': 'ineuron', 'k3': 'kumar', 3: 6, 7: 8}]"
      ]
     },
     "execution_count": 145,
     "metadata": {},
     "output_type": "execute_result"
    }
   ],
   "source": [
    "l4=[]\n",
    "for i in range(len(l)):\n",
    "    if type(l[i])==dict:\n",
    "        l4.append(l[i])\n",
    "l4"
   ]
  },
  {
   "cell_type": "raw",
   "id": "aafc4162",
   "metadata": {},
   "source": [
    "q5: Try to extract all the tuples enteties"
   ]
  },
  {
   "cell_type": "code",
   "execution_count": 147,
   "id": "de70ce0c",
   "metadata": {},
   "outputs": [
    {
     "data": {
      "text/plain": [
       "[(2, 3, 4, 5, 6), (3, 4, 5, 6, 7)]"
      ]
     },
     "execution_count": 147,
     "metadata": {},
     "output_type": "execute_result"
    }
   ],
   "source": [
    "l5=[]\n",
    "for i in range(len(l)):\n",
    "    if type(l[i])==tuple:\n",
    "        l5.append(l[i])\n",
    "l5"
   ]
  },
  {
   "cell_type": "raw",
   "id": "77fb819f",
   "metadata": {},
   "source": [
    "q6: Try to extract all the numerical data it may be a part of dict key and values"
   ]
  },
  {
   "cell_type": "code",
   "execution_count": 249,
   "id": "5a2e80d7",
   "metadata": {
    "scrolled": true
   },
   "outputs": [
    {
     "data": {
      "text/plain": [
       "[1, 2, 3, 4, 2, 3, 4, 5, 6, 3, 4, 5, 6, 7, 5, 4, 45, 23, 3, 6, 7, 8]"
      ]
     },
     "execution_count": 249,
     "metadata": {},
     "output_type": "execute_result"
    }
   ],
   "source": [
    "l6=[]\n",
    "for i in range(len(l)):\n",
    "    if type(l[i])==dict:\n",
    "        for j,k in l[i].items():\n",
    "            if type(j)== int:\n",
    "                l6.append(j)\n",
    "            if type(k)== int:\n",
    "                l6.append(k)\n",
    "    elif type(l[i])==list:\n",
    "        for j in range(len(l[i])):\n",
    "            if type(l[i][j]) == int:\n",
    "                l6.append(l[i][j])\n",
    "    elif type(l[i])==tuple:\n",
    "        for j in range(len(l[i])):\n",
    "            if type(l[i][j]) == int:\n",
    "                l6.append(l[i][j])\n",
    "    elif type(l[i])==set:\n",
    "        t=list(l[i])\n",
    "        for j in range(len(t)):\n",
    "            if type(t[j]) == int:\n",
    "                l6.append(t[j])\n",
    "        l[i]=set(t)\n",
    "l6"
   ]
  },
  {
   "cell_type": "raw",
   "id": "dbcb0429",
   "metadata": {},
   "source": [
    "q7: Try to given summation of all the numeri data"
   ]
  },
  {
   "cell_type": "code",
   "execution_count": 250,
   "id": "fc96fc5d",
   "metadata": {},
   "outputs": [
    {
     "data": {
      "text/plain": [
       "156"
      ]
     },
     "execution_count": 250,
     "metadata": {},
     "output_type": "execute_result"
    }
   ],
   "source": [
    "l7=sum(l6)\n",
    "l7"
   ]
  },
  {
   "cell_type": "raw",
   "id": "1547ea52",
   "metadata": {},
   "source": [
    "q8: Try to filter out all the odd values out all numeric data which is a part of a list"
   ]
  },
  {
   "cell_type": "code",
   "execution_count": 251,
   "id": "c830033d",
   "metadata": {},
   "outputs": [
    {
     "data": {
      "text/plain": [
       "[1, 3, 3, 5, 3, 5, 7, 5, 45, 23, 3, 7]"
      ]
     },
     "execution_count": 251,
     "metadata": {},
     "output_type": "execute_result"
    }
   ],
   "source": [
    "l8=[]\n",
    "for i in range(len(l6)):\n",
    "    if (l6[i] % 2) != 0:\n",
    "        l8.append(l6[i])\n",
    "l8"
   ]
  },
  {
   "cell_type": "raw",
   "id": "c2b7c924",
   "metadata": {},
   "source": [
    "q9: Try to extract \"ineroun\" out of this data"
   ]
  },
  {
   "cell_type": "code",
   "execution_count": 247,
   "id": "f206bd75",
   "metadata": {
    "scrolled": true
   },
   "outputs": [
    {
     "data": {
      "text/plain": [
       "['ineuron', 'ineuron']"
      ]
     },
     "execution_count": 247,
     "metadata": {},
     "output_type": "execute_result"
    }
   ],
   "source": [
    "l9=[]\n",
    "for i in range(len(l)):\n",
    "    if type(l[i])==dict:\n",
    "        for j,k in l[i].items():\n",
    "            if j== \"ineuron\":\n",
    "                l9.append(j)\n",
    "            if k== \"ineuron\":\n",
    "                l9.append(k)\n",
    "    elif type(l[i])==list:\n",
    "        for j in range(len(l[i])):\n",
    "            if l[i][j] == \"ineuron\":\n",
    "                l9.append(l[i][j])\n",
    "    elif type(l[i])==tuple:\n",
    "        for j in range(len(l[i])):\n",
    "            if l[i][j] == \"ineuron\":\n",
    "                l9.append(l[i][j])\n",
    "    elif type(l[i])==set:\n",
    "        t=list(l[i])\n",
    "        for j in range(len(t)):\n",
    "            if t[j] == \"ineuron\":\n",
    "                l9.append(t[j])\n",
    "        l[i]=set(t)\n",
    "l9"
   ]
  },
  {
   "cell_type": "raw",
   "id": "6935c1fa",
   "metadata": {},
   "source": [
    "q10: Try to find out a number of occurances of all the data"
   ]
  },
  {
   "cell_type": "code",
   "execution_count": 252,
   "id": "9e04aceb",
   "metadata": {
    "scrolled": true
   },
   "outputs": [
    {
     "data": {
      "text/plain": [
       "[[1, 2, 3, 4],\n",
       " (2, 3, 4, 5, 6),\n",
       " (3, 4, 5, 6, 7),\n",
       " {4, 5, 23, 45},\n",
       " {'k1': 'sudh', 'k2': 'ineuron', 'k3': 'kumar', 3: 6, 7: 8},\n",
       " ['ineuron', 'data science']]"
      ]
     },
     "execution_count": 252,
     "metadata": {},
     "output_type": "execute_result"
    }
   ],
   "source": [
    "l"
   ]
  },
  {
   "cell_type": "code",
   "execution_count": 297,
   "id": "15905997",
   "metadata": {},
   "outputs": [
    {
     "name": "stdout",
     "output_type": "stream",
     "text": [
      "[1, 2, 3, 4, 2, 3, 4, 5, 6, 3, 4, 5, 6, 7, 45, 4, 5, 23, 'ineuron', 'data science', 'k1', 'sudh', 'k2', 'ineuron', 'k3', 'kumar', 3, 6, 7, 8]\n"
     ]
    }
   ],
   "source": [
    "a=[]\n",
    "b=[]\n",
    "for i in range(len(l)):\n",
    "    if type(l[i]) != dict:\n",
    "        a.append(list(l[i]))\n",
    "    else:\n",
    "        for k,v in l[i].items():\n",
    "                b.append(k)\n",
    "                b.append(v)\n",
    "a.append(b)\n",
    "a\n",
    "c = []\n",
    "\n",
    "for i in range(len(a)):\n",
    "    for j in range(len(a[i])):\n",
    "        c.append(a[i][j])\n",
    "\n",
    "\n",
    "print(c)"
   ]
  },
  {
   "cell_type": "raw",
   "id": "0a008a55",
   "metadata": {},
   "source": [
    "q11: Try to find out number of keys in dict element"
   ]
  },
  {
   "cell_type": "code",
   "execution_count": 319,
   "id": "f404d4e4",
   "metadata": {},
   "outputs": [
    {
     "name": "stdout",
     "output_type": "stream",
     "text": [
      "[[1, 2, 3, 4], (2, 3, 4, 5, 6), (3, 4, 5, 6, 7), {5, 4, 45, 23}, {'k1': 'sudh', 'k2': 'ineuron', 'k3': 'kumar', 3: 6, 7: 8}, ['ineuron', 'data science']]\n"
     ]
    }
   ],
   "source": [
    "print(l)"
   ]
  },
  {
   "cell_type": "code",
   "execution_count": 298,
   "id": "7ef0d597",
   "metadata": {},
   "outputs": [
    {
     "data": {
      "text/plain": [
       "[3, 7]"
      ]
     },
     "execution_count": 298,
     "metadata": {},
     "output_type": "execute_result"
    }
   ],
   "source": [
    "l11=[]\n",
    "for i in range(len(l)):\n",
    "    if type(l[i])==dict:\n",
    "        for k,v in l[i].items():\n",
    "            if type(k) == int:\n",
    "                l11.append(k)\n",
    "l11         "
   ]
  },
  {
   "cell_type": "raw",
   "id": "19dbe603",
   "metadata": {},
   "source": [
    "q12: Try to filter out all the string data"
   ]
  },
  {
   "cell_type": "code",
   "execution_count": 299,
   "id": "71110236",
   "metadata": {},
   "outputs": [
    {
     "data": {
      "text/plain": [
       "['k1', 'sudh', 'k2', 'ineuron', 'k3', 'kumar', 'ineuron', 'data science']"
      ]
     },
     "execution_count": 299,
     "metadata": {},
     "output_type": "execute_result"
    }
   ],
   "source": [
    "l12=[]\n",
    "for i in range(len(l)):\n",
    "    if type(l[i])==dict:\n",
    "        for j,k in l[i].items():\n",
    "            if type(j)== str:\n",
    "                l12.append(j)\n",
    "            if type(k)== str:\n",
    "                l12.append(k)\n",
    "    elif type(l[i])==list:\n",
    "        for j in range(len(l[i])):\n",
    "            if type(l[i][j]) == str:\n",
    "                l12.append(l[i][j])\n",
    "    elif type(l[i])==tuple:\n",
    "        for j in range(len(l[i])):\n",
    "            if type(l[i][j]) == str:\n",
    "                l12.append(l[i][j])\n",
    "    elif type(l[i])==set:\n",
    "        t=list(l[i])\n",
    "        for j in range(len(t)):\n",
    "            if type(t[j]) == str:\n",
    "                l12.append(t[j])\n",
    "        l[i]=set(t)\n",
    "l12"
   ]
  },
  {
   "cell_type": "raw",
   "id": "ae6c2c76",
   "metadata": {},
   "source": [
    "q13: Try to find out alphanum in data"
   ]
  },
  {
   "cell_type": "code",
   "execution_count": 317,
   "id": "9026011e",
   "metadata": {},
   "outputs": [
    {
     "name": "stdout",
     "output_type": "stream",
     "text": [
      "[1, 2, 3, 4, 2, 3, 4, 5, 6, 3, 4, 5, 6, 7, 45, 4, 5, 23, 'ineuron', 'data science', 'k1', 'sudh', 'k2', 'ineuron', 'k3', 'kumar', 3, 6, 7, 8]\n"
     ]
    }
   ],
   "source": [
    "print(c)"
   ]
  },
  {
   "cell_type": "code",
   "execution_count": 320,
   "id": "8fe9b54a",
   "metadata": {},
   "outputs": [
    {
     "data": {
      "text/plain": [
       "['ineuron', 'k1', 'sudh', 'k2', 'ineuron', 'k3', 'kumar']"
      ]
     },
     "execution_count": 320,
     "metadata": {},
     "output_type": "execute_result"
    }
   ],
   "source": [
    "c=[1, 2, 3, 4, 2, 3, 4, 5, 6, 3, 4, 5, 6, 7, 45, 4, 5, 23, 'ineuron', 'data science', 'k1', 'sudh', 'k2', 'ineuron', 'k3', 'kumar', 3, 6, 7, 8]\n",
    "l13=[]\n",
    "for i in range(len(c)):\n",
    "    if type(c[i]) == str:\n",
    "        if c[i].isalnum() == True:\n",
    "            l13.append(c[i])\n",
    "l13"
   ]
  },
  {
   "cell_type": "raw",
   "id": "c1deb57a",
   "metadata": {},
   "source": [
    "q14: Try to find out multiplication of all numeric value in the individual collection inside dataset"
   ]
  },
  {
   "cell_type": "code",
   "execution_count": 321,
   "id": "b6925d3e",
   "metadata": {
    "scrolled": false
   },
   "outputs": [
    {
     "data": {
      "text/plain": [
       "[[1, 2, 3, 4],\n",
       " (2, 3, 4, 5, 6),\n",
       " (3, 4, 5, 6, 7),\n",
       " {4, 5, 23, 45},\n",
       " {'k1': 'sudh', 'k2': 'ineuron', 'k3': 'kumar', 3: 6, 7: 8},\n",
       " ['ineuron', 'data science']]"
      ]
     },
     "execution_count": 321,
     "metadata": {},
     "output_type": "execute_result"
    }
   ],
   "source": [
    "l"
   ]
  },
  {
   "cell_type": "code",
   "execution_count": 349,
   "id": "d1679e0e",
   "metadata": {
    "scrolled": true
   },
   "outputs": [
    {
     "data": {
      "text/plain": [
       "[[1, 2, 3, 4],\n",
       " [2, 3, 4, 5, 6],\n",
       " [3, 4, 5, 6, 7],\n",
       " [45, 4, 5, 23],\n",
       " ['ineuron', 'data science'],\n",
       " ['k1', 'k2', 'k3', 3, 7, 'sudh', 'ineuron', 'kumar', 6, 8]]"
      ]
     },
     "execution_count": 349,
     "metadata": {},
     "output_type": "execute_result"
    }
   ],
   "source": [
    "nl=[]\n",
    "for i in range(len(l)):\n",
    "    if type(l[i])==dict:\n",
    "        d=list(l[i])\n",
    "        for j in l[i]:\n",
    "            d.append(l[4][j])\n",
    "    else:\n",
    "        nl.append(list(l[i]))\n",
    "nl.append(d)\n",
    "nl"
   ]
  },
  {
   "cell_type": "code",
   "execution_count": 358,
   "id": "4a223fec",
   "metadata": {},
   "outputs": [
    {
     "name": "stdout",
     "output_type": "stream",
     "text": [
      "24 720 2520 20700\n"
     ]
    }
   ],
   "source": [
    "import numpy\n",
    "nl0,nl1,nl2,nl3 = numpy.prod(nl[0]),numpy.prod(nl[1]),numpy.prod(nl[2]),numpy.prod(nl[3])\n",
    "print(nl0,nl1,nl2,nl3)"
   ]
  },
  {
   "cell_type": "raw",
   "id": "dad339b3",
   "metadata": {},
   "source": [
    "q15: Try to unwrape all the collection inside collection and create a flat list "
   ]
  },
  {
   "cell_type": "code",
   "execution_count": 359,
   "id": "a69b364c",
   "metadata": {},
   "outputs": [
    {
     "data": {
      "text/plain": [
       "[[1, 2, 3, 4],\n",
       " [2, 3, 4, 5, 6],\n",
       " [3, 4, 5, 6, 7],\n",
       " [45, 4, 5, 23],\n",
       " ['ineuron', 'data science'],\n",
       " ['k1', 'k2', 'k3', 3, 7, 'sudh', 'ineuron', 'kumar', 6, 8]]"
      ]
     },
     "execution_count": 359,
     "metadata": {},
     "output_type": "execute_result"
    }
   ],
   "source": [
    "q15=[]\n",
    "for i in range(len(l)):\n",
    "    if type(l[i])==dict:\n",
    "        d=list(l[i])\n",
    "        for j in l[i]:\n",
    "            d.append(l[4][j])\n",
    "    else:\n",
    "        q15.append(list(l[i]))\n",
    "q15.append(d)\n",
    "q15"
   ]
  },
  {
   "cell_type": "code",
   "execution_count": null,
   "id": "cea7573b",
   "metadata": {},
   "outputs": [],
   "source": []
  }
 ],
 "metadata": {
  "kernelspec": {
   "display_name": "Python 3 (ipykernel)",
   "language": "python",
   "name": "python3"
  },
  "language_info": {
   "codemirror_mode": {
    "name": "ipython",
    "version": 3
   },
   "file_extension": ".py",
   "mimetype": "text/x-python",
   "name": "python",
   "nbconvert_exporter": "python",
   "pygments_lexer": "ipython3",
   "version": "3.9.12"
  }
 },
 "nbformat": 4,
 "nbformat_minor": 5
}
