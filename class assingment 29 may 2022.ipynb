{
 "cells": [
  {
   "cell_type": "raw",
   "id": "e822ceea",
   "metadata": {},
   "source": [
    "q1: Try to print this by using while loop\n",
    "* \n",
    "* * \n",
    "* * * \n",
    "* * * * \n",
    "* * * * * \n",
    "* * * * * * \n",
    "* * * * * * * \n",
    "* * * * * * * * \n",
    "* * * * * * * * *"
   ]
  },
  {
   "cell_type": "code",
   "execution_count": 5,
   "id": "149433d3",
   "metadata": {
    "scrolled": true
   },
   "outputs": [
    {
     "name": "stdout",
     "output_type": "stream",
     "text": [
      "* \n",
      "* * \n",
      "* * * \n",
      "* * * * \n",
      "* * * * * \n",
      "* * * * * * \n",
      "* * * * * * * \n",
      "* * * * * * * * \n",
      "* * * * * * * * * \n"
     ]
    }
   ],
   "source": [
    "a=0\n",
    "b=9\n",
    "while a<b:\n",
    "    c=0\n",
    "    while c<a+1:\n",
    "        print(\"*\",end=\" \")\n",
    "        c=c+1\n",
    "    print(\"\")\n",
    "    a=a+1"
   ]
  },
  {
   "cell_type": "code",
   "execution_count": 76,
   "id": "223493cc",
   "metadata": {},
   "outputs": [
    {
     "name": "stdout",
     "output_type": "stream",
     "text": [
      "* \n",
      "* * \n",
      "* * * \n",
      "* * * * \n",
      "* * * * * \n",
      "* * * * * * \n",
      "* * * * * * * \n",
      "* * * * * * * * \n",
      "* * * * * * * * * \n"
     ]
    }
   ],
   "source": [
    "i=9\n",
    "n=1\n",
    "while n<=i:\n",
    "    print('* '*n)\n",
    "    n=n+1"
   ]
  },
  {
   "cell_type": "code",
   "execution_count": null,
   "id": "c2a0db93",
   "metadata": {},
   "outputs": [],
   "source": [
    "q2: try to print below by using while loop\n",
    "\n",
    "A\n",
    "B H\n",
    "C I N\n",
    "D J O S\n",
    "E L Q U X Z\n",
    "G M R V Y"
   ]
  },
  {
   "cell_type": "code",
   "execution_count": 83,
   "id": "f7a2c3b5",
   "metadata": {},
   "outputs": [
    {
     "name": "stdout",
     "output_type": "stream",
     "text": [
      "\n",
      " A\n",
      " B H\n",
      " C I N\n",
      " D J O S\n",
      " E K P T W\n",
      " F L Q U X Z\n",
      " G M R V Y\n"
     ]
    }
   ],
   "source": [
    "x=0\n",
    "while x<8:\n",
    "    content =\"\"\n",
    "    y=0\n",
    "    while y<x:\n",
    "        z=0\n",
    "        sum=0\n",
    "        while z<y:\n",
    "            sum+=6-z\n",
    "            z+=1\n",
    "        if (x+64+sum)<=(64+26):\n",
    "            content += \" \" + chr(x+64+sum)\n",
    "        y+=1\n",
    "    print(content)\n",
    "    x+=1\n",
    "            "
   ]
  },
  {
   "cell_type": "code",
   "execution_count": 89,
   "id": "eb3c119c",
   "metadata": {},
   "outputs": [
    {
     "name": "stdout",
     "output_type": "stream",
     "text": [
      "A \n",
      "B H \n",
      "C I N \n",
      "D J O S \n",
      "E K P T W \n",
      "F L Q U X Z \n",
      "G M R V Y \n"
     ]
    }
   ],
   "source": [
    "i=0\n",
    "while i<7:\n",
    "    c=65+i\n",
    "    j=0\n",
    "    while j<(i+1):\n",
    "        if c==91:\n",
    "            break\n",
    "        print(chr(c),end=\" \")\n",
    "        c=c+6-j\n",
    "        j+=1\n",
    "    i+=1\n",
    "    print()"
   ]
  },
  {
   "cell_type": "raw",
   "id": "7fd0cef6",
   "metadata": {},
   "source": [
    "q3: try to print all the number divisible by 3 in between a range of 40 - 400"
   ]
  },
  {
   "cell_type": "code",
   "execution_count": 26,
   "id": "5abaa462",
   "metadata": {},
   "outputs": [
    {
     "name": "stdout",
     "output_type": "stream",
     "text": [
      "42,45,48,51,54,57,60,63,66,69,72,75,78,81,84,87,90,93,96,99,102,105,108,111,114,117,120,123,126,129,132,135,138,141,144,147,150,153,156,159,162,165,168,171,174,177,180,183,186,189,192,195,198,201,204,207,210,213,216,219,222,225,228,231,234,237,240,243,246,249,252,255,258,261,264,267,270,273,276,279,282,285,288,291,294,297,300,303,306,309,312,315,318,321,324,327,330,333,336,339,342,345,348,351,354,357,360,363,366,369,372,375,378,381,384,387,390,393,396,399,"
     ]
    }
   ],
   "source": [
    "a=40\n",
    "while a<400:\n",
    "    if a%3==0:\n",
    "        print(a,end=\",\")\n",
    "    a=a+1"
   ]
  },
  {
   "cell_type": "code",
   "execution_count": null,
   "id": "4689dab0",
   "metadata": {},
   "outputs": [],
   "source": [
    "q4: Try to filter out all the vowels from below text by using while loop:\n",
    " \"\"\"Python is a high-level, interpreted, general-purpose programming language. Its design philosophy emphasizes code readability with the use of significant indentation.\n",
    "\n",
    "Python is dynamically-typed and garbage-collected. It supports multiple programming paradigms, including structured (particularly procedural), object-oriented and functional programming. It is often described as a \"batteries included\" language due to its comprehensive standard library.\n",
    "\n",
    "Guido van Rossum began working on Python in the late 1980s as a successor to the ABC programming language and first released it in 1991 as Python 0.9.0.[35] Python 2.0 was released in 2000 and introduced new features such as list comprehensions, cycle-detecting garbage collection, reference counting, and Unicode support. Python 3.0, released in 2008, was a major revision that is not completely backward-compatible with earlier versions. Python 2 was discontinued with version 2.7.18 in 2020.\n",
    "\n",
    "Python consistently ranks as one of the most popular programming languagesc\"\"\" "
   ]
  },
  {
   "cell_type": "code",
   "execution_count": 91,
   "id": "8d6a5926",
   "metadata": {},
   "outputs": [
    {
     "name": "stdout",
     "output_type": "stream",
     "text": [
      "o,i,a,i,e,e,i,e,e,e,e,e,a,u,o,e,o,a,i,a,u,a,e,i,e,i,i,o,o,e,a,i,e,o,e,e,a,a,i,i,i,e,u,e,o,i,i,i,a,i,e,a,i,o,o,i,a,i,a,e,a,a,a,e,o,e,e,i,u,o,u,i,e,o,a,i,a,a,i,i,u,i,u,u,e,a,i,u,a,o,e,u,a,o,e,o,i,e,e,a,u,i,o,a,o,a,i,i,i,o,e,e,i,e,a,a,a,e,i,e,i,u,e,a,u,a,e,u,e,o,i,o,e,e,i,e,a,a,i,a,u,i,o,a,o,u,e,a,o,i,o,o,i,e,a,e,a,a,u,e,o,o,e,a,o,a,i,a,u,a,e,a,i,e,e,a,e,i,i,a,o,o,a,e,e,a,e,i,a,i,o,u,e,e,e,a,u,e,u,a,i,o,e,e,i,o,e,e,e,i,a,a,e,o,e,i,o,e,e,e,e,o,u,i,a,u,i,o,e,u,o,o,e,e,a,e,i,a,a,a,o,e,i,i,o,a,i,o,o,e,e,a,a,o,a,i,e,i,e,a,i,e,e,i,o,o,a,i,o,i,u,e,i,e,i,o,i,o,o,i,e,a,a,o,e,o,e,o,o,u,a,o,a,i,a,u,a,e,"
     ]
    }
   ],
   "source": [
    "para=\"\"\"Python is a high-level, interpreted, general-purpose programming language. Its design philosophy emphasizes code readability with the use of significant indentation.\n",
    "\n",
    "Python is dynamically-typed and garbage-collected. It supports multiple programming paradigms, including structured (particularly procedural), object-oriented and functional programming. It is often described as a \"batteries included\" language due to its comprehensive standard library.\n",
    "\n",
    "Guido van Rossum began working on Python in the late 1980s as a successor to the ABC programming language and first released it in 1991 as Python 0.9.0.[35] Python 2.0 was released in 2000 and introduced new features such as list comprehensions, cycle-detecting garbage collection, reference counting, and Unicode support. Python 3.0, released in 2008, was a major revision that is not completely backward-compatible with earlier versions. Python 2 was discontinued with version 2.7.18 in 2020.\n",
    "\n",
    "Python consistently ranks as one of the most popular programming languagesc\"\"\" \n",
    "para=para.lower()\n",
    "v='aeiou'\n",
    "i=0\n",
    "while i<len(para):\n",
    "    if para[i] in v:\n",
    "        print(para[i],end=\",\")\n",
    "    i=i+1"
   ]
  },
  {
   "cell_type": "code",
   "execution_count": 93,
   "id": "653c93c6",
   "metadata": {},
   "outputs": [
    {
     "name": "stdout",
     "output_type": "stream",
     "text": [
      "is,a,interpreted,,its,emphasizes,use,of,indentation.,is,and,it,including,object-oriented,and,it,is,often,as,a,included\",its,on,in,as,a,abc,and,it,in,as,in,and,introduced,as,and,unicode,in,a,is,earlier,in,as,one,of,"
     ]
    }
   ],
   "source": [
    "# word starting from vowvel alphabets\n",
    "para=para.lower()\n",
    "v='aeiou'\n",
    "word=para.split()\n",
    "i=0\n",
    "while i<len(word):\n",
    "    if word[i][0] in v:\n",
    "        print(word[i],end=\",\")\n",
    "    i=i+1"
   ]
  },
  {
   "cell_type": "code",
   "execution_count": 53,
   "id": "236028fd",
   "metadata": {},
   "outputs": [
    {
     "name": "stdout",
     "output_type": "stream",
     "text": [
      "2,4,6,8,10,12,14,16,18,20,22,24,26,28,30,32,34,36,38,40,42,44,46,48,50,52,54,56,58,60,62,64,66,68,70,72,74,76,78,80,82,84,86,88,90,92,94,96,98,100,102,104,106,108,110,112,114,116,118,120,122,124,126,128,130,132,134,136,138,140,142,144,146,148,150,152,154,156,158,160,162,164,166,168,170,172,174,176,178,180,182,184,186,188,190,192,194,196,198,200,202,204,206,208,210,212,214,216,218,220,222,224,226,228,230,232,234,236,238,240,242,244,246,248,250,252,254,256,258,260,262,264,266,268,270,272,274,276,278,280,282,284,286,288,290,292,294,296,298,300,302,304,306,308,310,312,314,316,318,320,322,324,326,328,330,332,334,336,338,340,342,344,346,348,350,352,354,356,358,360,362,364,366,368,370,372,374,376,378,380,382,384,386,388,390,392,394,396,398,400,402,404,406,408,410,412,414,416,418,420,422,424,426,428,430,432,434,436,438,440,442,444,446,448,450,452,454,456,458,460,462,464,466,468,470,472,474,476,478,480,482,484,486,488,490,492,494,496,498,500,502,504,506,508,510,512,514,516,518,520,522,524,526,528,530,532,534,536,538,540,542,544,546,548,550,552,554,556,558,560,562,564,566,568,570,572,574,576,578,580,582,584,586,588,590,592,594,596,598,600,602,604,606,608,610,612,614,616,618,620,622,624,626,628,630,632,634,636,638,640,642,644,646,648,650,652,654,656,658,660,662,664,666,668,670,672,674,676,678,680,682,684,686,688,690,692,694,696,698,700,702,704,706,708,710,712,714,716,718,720,722,724,726,728,730,732,734,736,738,740,742,744,746,748,750,752,754,756,758,760,762,764,766,768,770,772,774,776,778,780,782,784,786,788,790,792,794,796,798,800,802,804,806,808,810,812,814,816,818,820,822,824,826,828,830,832,834,836,838,840,842,844,846,848,850,852,854,856,858,860,862,864,866,868,870,872,874,876,878,880,882,884,886,888,890,892,894,896,898,900,902,904,906,908,910,912,914,916,918,920,922,924,926,928,930,932,934,936,938,940,942,944,946,948,950,952,954,956,958,960,962,964,966,968,970,972,974,976,978,980,982,984,986,988,990,992,994,996,998,"
     ]
    }
   ],
   "source": [
    "# q5: Try to generate all the even number between 1-1000\n",
    "a=1\n",
    "while a<1000:\n",
    "    if a%2==0:\n",
    "        print(a,end=\",\")\n",
    "    a=a+1"
   ]
  },
  {
   "cell_type": "code",
   "execution_count": null,
   "id": "fdd71d53",
   "metadata": {},
   "outputs": [],
   "source": [
    "q6: Define a function for all the above problem statement"
   ]
  },
  {
   "cell_type": "code",
   "execution_count": null,
   "id": "ce1e1633",
   "metadata": {},
   "outputs": [],
   "source": [
    "q7: write a code to get a time of your system\n",
    "q8: write a code to fetch date from your system"
   ]
  },
  {
   "cell_type": "code",
   "execution_count": 59,
   "id": "97e25684",
   "metadata": {},
   "outputs": [
    {
     "name": "stdout",
     "output_type": "stream",
     "text": [
      "now = 2022-06-10 22:03:53.833825\n",
      "date and time = 10/06/2022 22:03:53\n"
     ]
    }
   ],
   "source": [
    "from datetime import datetime\n",
    "\n",
    "# datetime object containing current date and time\n",
    "now = datetime.now()\n",
    " \n",
    "print(\"now =\", now)\n",
    "\n",
    "# dd/mm/YY H:M:S\n",
    "dt_string = now.strftime(\"%d/%m/%Y %H:%M:%S\")\n",
    "print(\"date and time =\", dt_string)\t"
   ]
  },
  {
   "cell_type": "code",
   "execution_count": null,
   "id": "dc792535",
   "metadata": {},
   "outputs": [],
   "source": [
    "q9: write a code to send a mail to your system"
   ]
  },
  {
   "cell_type": "code",
   "execution_count": null,
   "id": "5eeb84db",
   "metadata": {},
   "outputs": [],
   "source": [
    "import smtplib\n",
    "server=smtplib.SMTP('smtp.gmail.com',587)\n",
    "server.starttls()\n",
    "server.login('***@gmaail.com',\"*****\")\n",
    "server.sendmail('^^^^^^^@gmail.com','$$$$$@gmail.com','TEST EMAIL FROM PYTHON')\n",
    "print('mail sent')"
   ]
  },
  {
   "cell_type": "code",
   "execution_count": null,
   "id": "55eb6974",
   "metadata": {},
   "outputs": [],
   "source": [
    "q10: write a code to triger alarm for you at scheduled time"
   ]
  },
  {
   "cell_type": "code",
   "execution_count": null,
   "id": "95d25eb4",
   "metadata": {},
   "outputs": [],
   "source": [
    "import time\n",
    "import playsound\n",
    "\n",
    "alarm_time='10:30'\n",
    "if time.asctime()[11:-8] == alarm_time:\n",
    "    absolute_path=os.path.abspath(\"testtovoice.mp3\")\n",
    "    print(absolute_path)\n",
    "    playsound.playsound(absolute_path)"
   ]
  },
  {
   "cell_type": "code",
   "execution_count": null,
   "id": "06a05f1f",
   "metadata": {},
   "outputs": [],
   "source": [
    "q11: write a code to check ip adress of your system"
   ]
  },
  {
   "cell_type": "code",
   "execution_count": 94,
   "id": "507f2263",
   "metadata": {},
   "outputs": [
    {
     "name": "stdout",
     "output_type": "stream",
     "text": [
      "your ip adress is  192.168.29.109\n",
      "your computer name is  Himanshu-PC\n"
     ]
    }
   ],
   "source": [
    "import socket\n",
    "host=socket.gethostname()\n",
    "ip=socket.gethostbyname(host)\n",
    "print(\"your ip adress is \",ip)\n",
    "print('your computer name is ', host)"
   ]
  },
  {
   "cell_type": "code",
   "execution_count": null,
   "id": "7d032769",
   "metadata": {},
   "outputs": [],
   "source": [
    "q12 : Write a code to check a perticular installation in your system"
   ]
  },
  {
   "cell_type": "code",
   "execution_count": 96,
   "id": "8c4feff2",
   "metadata": {},
   "outputs": [
    {
     "name": "stdout",
     "output_type": "stream",
     "text": [
      "Collecting winapps\n",
      "  Downloading winapps-0.2.0-py3-none-any.whl (9.1 kB)\n",
      "Collecting plumbum<2.0,>=1.6\n",
      "  Downloading plumbum-1.7.2-py2.py3-none-any.whl (117 kB)\n",
      "Requirement already satisfied: pywin32 in c:\\users\\himanshu\\anaconda3\\lib\\site-packages (from plumbum<2.0,>=1.6->winapps) (227)\n",
      "Installing collected packages: plumbum, winapps\n",
      "Successfully installed plumbum-1.7.2 winapps-0.2.0\n"
     ]
    },
    {
     "data": {
      "text/plain": [
       "[InstalledApplication(name='Broadcom 802.11 Wireless LAN Adapter', version='5.100.82.86', install_date=None, install_location=WindowsPath('\"C:/Program Files/Broadcom/Broadcom 802.11/Driver\"'), install_source=None, modify_path=None, publisher='Broadcom Corporation', uninstall_string='\"C:\\\\Program Files\\\\Broadcom\\\\Broadcom 802.11\\\\Driver\\\\bcmwlu00.exe\" verbose /rootkey=\"Software\\\\Broadcom\\\\802.11\\\\UninstallInfo\" /rootdir=\"C:\\\\Program Files\\\\Broadcom\\\\Broadcom 802.11\\\\Driver\" driver'),\n",
       " InstalledApplication(name='Microsoft Help Viewer 1.1', version='1.1.40219', install_date=None, install_location=WindowsPath('C:/Program Files/Microsoft Help Viewer/v1.0'), install_source=None, modify_path=None, publisher='Microsoft Corporation', uninstall_string='C:\\\\Program Files\\\\Microsoft Help Viewer\\\\v1.0\\\\Microsoft Help Viewer 1.1\\\\install.exe'),\n",
       " InstalledApplication(name='Microsoft Office Professional Plus 2016', version='16.0.4266.1001', install_date=None, install_location=WindowsPath('C:/Program Files/Microsoft Office'), install_source=None, modify_path='\"C:\\\\Program Files\\\\Common Files\\\\Microsoft Shared\\\\OFFICE16\\\\Office Setup Controller\\\\setup.exe\" /modify PROPLUS /dll OSETUP.DLL', publisher='Microsoft Corporation', uninstall_string='\"C:\\\\Program Files\\\\Common Files\\\\Microsoft Shared\\\\OFFICE16\\\\Office Setup Controller\\\\setup.exe\" /uninstall PROPLUS /dll OSETUP.DLL'),\n",
       " InstalledApplication(name='R for Windows 4.2.0', version='4.2.0', install_date=datetime.date(2022, 6, 1), install_location=WindowsPath('C:/Program Files/R/R-4.2.0'), install_source=None, modify_path=None, publisher='R Core Team', uninstall_string='\"C:\\\\Program Files\\\\R\\\\R-4.2.0\\\\unins000.exe\"'),\n",
       " InstalledApplication(name='Synaptics Pointing Device Driver', version='15.3.11.0', install_date=None, install_location=WindowsPath('%ProgramFiles%/Synaptics/SynTP'), install_source=None, modify_path=None, publisher='Synaptics Incorporated', uninstall_string='rundll32.exe \"%ProgramFiles%\\\\Synaptics\\\\SynTP\\\\SynISDLL.dll\",standAloneUninstall'),\n",
       " InstalledApplication(name='WinRAR 6.11 (64-bit)', version='6.11.0', install_date=None, install_location=WindowsPath('C:/Program Files/WinRAR'), install_source=None, modify_path=None, publisher='win.rar GmbH', uninstall_string='C:\\\\Program Files\\\\WinRAR\\\\uninstall.exe'),\n",
       " InstalledApplication(name='MySQL Server 8.0', version='8.0.26', install_date=datetime.date(2021, 8, 16), install_location=WindowsPath('C:/Program Files/MySQL/MySQL Server 8.0'), install_source=WindowsPath('C:/ProgramData/MySQL/MySQL Installer for Windows/Product Cache'), modify_path='MsiExec.exe /I{2C2F1723-07EB-4750-98AF-B3E74CD48E7E}', publisher='Oracle Corporation', uninstall_string='MsiExec.exe /I{2C2F1723-07EB-4750-98AF-B3E74CD48E7E}'),\n",
       " InstalledApplication(name='Microsoft .NET Framework 4.6.1 Hotfix Rollup (KB3120241)', version='4.6.01067', install_date=datetime.date(2021, 8, 12), install_location='', install_source=WindowsPath('C:/Windows/TEMP/NET/4.6.1_RU1'), modify_path='MsiExec.exe /X{46556DC7-EFC0-361E-832E-E0A9B0D2EFAB}', publisher='Microsoft Corporation', uninstall_string='MsiExec.exe /X{46556DC7-EFC0-361E-832E-E0A9B0D2EFAB}'),\n",
       " InstalledApplication(name='HP Launch Box', version='1.1.5', install_date=datetime.date(2022, 5, 25), install_location='', install_source=WindowsPath('C:/SWSetup/SP57103'), modify_path='MsiExec.exe /I{5A847522-375C-4D05-BD3D-88C450CC047F}', publisher='Hewlett-Packard Company', uninstall_string='MsiExec.exe /I{5A847522-375C-4D05-BD3D-88C450CC047F}'),\n",
       " InstalledApplication(name='Visual Studio 2010 Prerequisites - English', version='10.0.40219', install_date=datetime.date(2021, 8, 16), install_location='', install_source=WindowsPath('C:/Users/Himanshu/Downloads/SQLManagementStudio_x64_ENU/1033_ENU_LP/redist/VisualStudioShell/64bitPrereq'), modify_path='MsiExec.exe /X{662014D2-0450-37ED-ABAE-157C88127BEB}', publisher='Microsoft Corporation', uninstall_string='MsiExec.exe /X{662014D2-0450-37ED-ABAE-157C88127BEB}'),\n",
       " InstalledApplication(name='MySQL Workbench 8.0 CE', version='8.0.26', install_date=datetime.date(2021, 8, 16), install_location=WindowsPath('C:/Program Files/MySQL/MySQL Workbench 8.0'), install_source=WindowsPath('C:/ProgramData/MySQL/MySQL Installer for Windows/Product Cache'), modify_path='MsiExec.exe /I{7E665091-6EFA-496D-91BE-BF36D42A8E1E}', publisher='Oracle Corporation', uninstall_string='MsiExec.exe /I{7E665091-6EFA-496D-91BE-BF36D42A8E1E}'),\n",
       " InstalledApplication(name='Microsoft ODBC Driver 11 for SQL Server', version='12.0.2000.8', install_date=datetime.date(2021, 8, 16), install_location='', install_source=WindowsPath('C:/Users/Himanshu/Downloads/SQLManagementStudio_x64_ENU/1033_ENU_LP/x64/setup/x64'), modify_path='MsiExec.exe /I{A106FA6F-E94C-44C9-8A0F-C34BD82C9FE6}', publisher='Microsoft Corporation', uninstall_string='MsiExec.exe /I{A106FA6F-E94C-44C9-8A0F-C34BD82C9FE6}'),\n",
       " InstalledApplication(name='Broadcom Bluetooth Software', version='6.5.1.5000', install_date=datetime.date(2022, 5, 24), install_location=WindowsPath('c:/Program Files/WIDCOMM/Bluetooth Software'), install_source=WindowsPath('c:/SWSetup/SP65634/Win64'), modify_path='MsiExec.exe /X{A1439D4F-FD46-47F2-A1D3-FEE097C29A09}', publisher='Broadcom Corporation', uninstall_string='MsiExec.exe /X{A1439D4F-FD46-47F2-A1D3-FEE097C29A09}'),\n",
       " InstalledApplication(name='AMD Catalyst Install Manager', version='3.0.847.0', install_date=datetime.date(2022, 5, 24), install_location=WindowsPath('c:/Program Files/ATI/CIM'), install_source=WindowsPath('c:/swsetup/SP55081/Packages/Apps/CIM/Win64'), modify_path=None, publisher='Advanced Micro Devices, Inc.', uninstall_string='msiexec /q/x{ACD449FA-9DF3-779D-DA68-11D486963225} REBOOT=ReallySuppress'),\n",
       " InstalledApplication(name='HP Security Assistant', version='3.0.4', install_date=datetime.date(2022, 5, 25), install_location='', install_source=WindowsPath('C:/SWSetup/sp56478'), modify_path='MsiExec.exe /I{ED6CD3AC-616B-4B20-BCF3-6E637B92A5AD}', publisher='Hewlett-Packard Company', uninstall_string='MsiExec.exe /I{ED6CD3AC-616B-4B20-BCF3-6E637B92A5AD}'),\n",
       " InstalledApplication(name='Foxit Reader', version='9.7.0.29455', install_date=datetime.date(2021, 8, 13), install_location=WindowsPath('C:/Program Files (x86)/Foxit Software/Foxit Reader'), install_source=None, modify_path=None, publisher='Foxit Software Inc.', uninstall_string='\"C:\\\\Program Files (x86)\\\\Foxit Software\\\\Foxit Reader\\\\unins000.exe\"'),\n",
       " InstalledApplication(name='Google Chrome', version='102.0.5005.63', install_date=datetime.date(2022, 6, 1), install_location=WindowsPath('C:/Program Files/Google/Chrome/Application'), install_source=None, modify_path=None, publisher='Google LLC', uninstall_string='\"C:\\\\Program Files\\\\Google\\\\Chrome\\\\Application\\\\102.0.5005.63\\\\Installer\\\\setup.exe\" --uninstall --channel=stable --system-level --verbose-logging'),\n",
       " InstalledApplication(name='CyberLink YouCam', version='5.0.3.3907', install_date=datetime.date(2022, 5, 25), install_location=WindowsPath('C:/Program Files (x86)/CyberLink/YouCam'), install_source=WindowsPath('C:/SwSetup/sp65795'), modify_path=None, publisher='CyberLink Corp.', uninstall_string='\"C:\\\\Program Files (x86)\\\\InstallShield Installation Information\\\\{01FB4998-33C4-4431-85ED-079E3EEFE75D}\\\\Setup.exe\" /z-uninstall'),\n",
       " InstalledApplication(name='CyberLink PowerDVD', version='10.0.5.3817', install_date=datetime.date(2022, 5, 25), install_location=WindowsPath('C:/Program Files (x86)/CyberLink/PowerDVD10'), install_source=WindowsPath('C:/SWSetup/SP56904'), modify_path=None, publisher='CyberLink Corp.', uninstall_string='\"C:\\\\Program Files (x86)\\\\InstallShield Installation Information\\\\{DEC235ED-58A4-4517-A278-C41E8DAEAB3B}\\\\setup.exe\" /z-uninstall'),\n",
       " InstalledApplication(name='Mozilla Firefox (x86 en-US)', version='101.0', install_date=None, install_location=WindowsPath('C:/Program Files (x86)/Mozilla Firefox'), install_source=None, modify_path=None, publisher='Mozilla', uninstall_string='\"C:\\\\Program Files (x86)\\\\Mozilla Firefox\\\\uninstall\\\\helper.exe\"'),\n",
       " InstalledApplication(name='RStudio', version='2022.02.2+485', install_date=None, install_location=None, install_source=None, modify_path=None, publisher='RStudio', uninstall_string='C:\\\\Program Files\\\\RStudio\\\\Uninstall.exe'),\n",
       " InstalledApplication(name='VLC media player', version='3.0.8', install_date=None, install_location=WindowsPath('C:/Program Files (x86)/VideoLAN/VLC'), install_source=None, modify_path=None, publisher='VideoLAN', uninstall_string='\"C:\\\\Program Files (x86)\\\\VideoLAN\\\\VLC\\\\uninstall.exe\"'),\n",
       " InstalledApplication(name='HP Connection Manager', version='4.4.12.1', install_date=datetime.date(2022, 5, 25), install_location=WindowsPath('C:/Program Files (x86)/Hewlett-Packard/HP Connection Manager'), install_source=WindowsPath('C:/Swsetup/SP61296'), modify_path='MsiExec.exe /X{0CC93482-5EAD-4224-AC9D-07C1548F03E6}', publisher='Hewlett-Packard Company', uninstall_string='MsiExec.exe /X{0CC93482-5EAD-4224-AC9D-07C1548F03E6}'),\n",
       " InstalledApplication(name='Microsoft Visual C++ 2015-2019 Redistributable (x64) - 14.29.30133', version='14.29.30133.0', install_date=None, install_location=None, install_source=None, modify_path='\"C:\\\\ProgramData\\\\Package Cache\\\\{295d1583-fdb9-414b-a4c8-da539362a26b}\\\\VC_redist.x64.exe\" /modify', publisher='Microsoft Corporation', uninstall_string='\"C:\\\\ProgramData\\\\Package Cache\\\\{295d1583-fdb9-414b-a4c8-da539362a26b}\\\\VC_redist.x64.exe\"  /uninstall'),\n",
       " InstalledApplication(name='HP SimplePass', version='6.0.100.276', install_date=datetime.date(2022, 5, 25), install_location=WindowsPath('C:/Program Files (x86)/HP SimplePass'), install_source=WindowsPath('C:/ProgramData/Downloaded Installations/{1F3A54C4-03A5-4EAB-8A51-7CFAFC46F812}'), modify_path='MsiExec.exe /X{4BACA3B8-F63A-44ED-9A8D-48B4D02AD268}', publisher='Hewlett-Packard', uninstall_string='MsiExec.exe /X{4BACA3B8-F63A-44ED-9A8D-48B4D02AD268}'),\n",
       " InstalledApplication(name='Microsoft Visual C++ 2015-2022 Redistributable (x86) - 14.30.30708', version='14.30.30708.0', install_date=None, install_location=None, install_source=None, modify_path='\"C:\\\\ProgramData\\\\Package Cache\\\\{52ad9b34-7229-4fa5-b36d-bbe3393d7f20}\\\\VC_redist.x86.exe\" /modify', publisher='Microsoft Corporation', uninstall_string='\"C:\\\\ProgramData\\\\Package Cache\\\\{52ad9b34-7229-4fa5-b36d-bbe3393d7f20}\\\\VC_redist.x86.exe\"  /uninstall'),\n",
       " InstalledApplication(name='HP Quick Launch', version='2.7.2', install_date=datetime.date(2022, 5, 25), install_location='', install_source=WindowsPath('C:/SWSetup/SP56929'), modify_path='MsiExec.exe /I{53B17A98-5BF0-40BC-AAFF-850A357975AC}', publisher='Hewlett-Packard Company', uninstall_string='MsiExec.exe /I{53B17A98-5BF0-40BC-AAFF-850A357975AC}'),\n",
       " InstalledApplication(name='HP Software Framework', version='4.6.10.1', install_date=datetime.date(2022, 5, 25), install_location=WindowsPath('C:/Program Files (x86)/Hewlett-Packard/HP Software Framework'), install_source=WindowsPath('C:/Swsetup/SP59202'), modify_path='MsiExec.exe /X{675D093B-815D-47FD-AB2C-192EC751E8E2}', publisher='Hewlett-Packard Company', uninstall_string='MsiExec.exe /X{675D093B-815D-47FD-AB2C-192EC751E8E2}'),\n",
       " InstalledApplication(name='Realtek Ethernet Controller Driver', version='7.40.126.2011', install_date=datetime.date(2022, 5, 24), install_location=WindowsPath('C:/Program Files (x86)/Realtek/NICDRV_8169'), install_source=WindowsPath('c:/swsetup/SP55083'), modify_path='C:\\\\Program Files (x86)\\\\InstallShield Installation Information\\\\{8833FFB6-5B0C-4764-81AA-06DFEED9A476}\\\\setup.exe -runfromtemp', publisher='Realtek', uninstall_string='C:\\\\Program Files (x86)\\\\InstallShield Installation Information\\\\{8833FFB6-5B0C-4764-81AA-06DFEED9A476}\\\\setup.exe -runfromtemp -removeonly'),\n",
       " InstalledApplication(name='MySQL Documents 8.0', version='8.0.26', install_date=datetime.date(2021, 8, 16), install_location=WindowsPath('C:/Program Files (x86)/MySQL/MySQL Documentation 8.0'), install_source=WindowsPath('C:/ProgramData/MySQL/MySQL Installer for Windows/Product Cache'), modify_path='MsiExec.exe /I{9C038E3A-B2C4-4E1C-B41D-2F9A516F3E1B}', publisher='Oracle Corporation', uninstall_string='MsiExec.exe /I{9C038E3A-B2C4-4E1C-B41D-2F9A516F3E1B}'),\n",
       " InstalledApplication(name='MySQL Installer - Community', version='1.4.38.0', install_date=datetime.date(2021, 8, 16), install_location='', install_source=WindowsPath('C:/Users/Himanshu/Downloads'), modify_path='MsiExec.exe /I{9E43FA92-14E1-4CA3-8DAA-39F19EEF6E65}', publisher='Oracle Corporation', uninstall_string='MsiExec.exe /I{9E43FA92-14E1-4CA3-8DAA-39F19EEF6E65}'),\n",
       " InstalledApplication(name='Realtek PCIE Card Reader', version='6.1.7601.83', install_date=datetime.date(2022, 5, 24), install_location=WindowsPath('C:/Program Files (x86)/Realtek/Realtek PCIE Card Reader'), install_source=WindowsPath('c:/swsetup/SP55085'), modify_path='\"C:\\\\Program Files (x86)\\\\InstallShield Installation Information\\\\{C1594429-8296-4652-BF54-9DBE4932A44C}\\\\setup.exe\" -runfromtemp -l0x0009', publisher='Realtek Semiconductor Corp.', uninstall_string='\"C:\\\\Program Files (x86)\\\\InstallShield Installation Information\\\\{C1594429-8296-4652-BF54-9DBE4932A44C}\\\\setup.exe\" -runfromtemp -removeonly'),\n",
       " InstalledApplication(name='MySQL Examples and Samples 8.0', version='8.0.26', install_date=datetime.date(2021, 8, 16), install_location=WindowsPath('C:/Program Files (x86)/MySQL/Samples and Examples 8.0'), install_source=WindowsPath('C:/ProgramData/MySQL/MySQL Installer for Windows/Product Cache'), modify_path='MsiExec.exe /I{CF541D3A-6D67-457B-A38D-A6FC55AB0B4B}', publisher='Oracle Corporation', uninstall_string='MsiExec.exe /I{CF541D3A-6D67-457B-A38D-A6FC55AB0B4B}'),\n",
       " InstalledApplication(name='Microsoft .NET Framework 4 Multi-Targeting Pack', version='4.0.30319', install_date=datetime.date(2021, 8, 16), install_location='', install_source=WindowsPath('C:/Users/Himanshu/Downloads/SQLManagementStudio_x64_ENU/redist/VisualStudioShell/MTPack'), modify_path='MsiExec.exe /I{CFEF48A8-BFB8-3EAC-8BA5-DE4F8AA267CE}', publisher='Microsoft Corporation', uninstall_string='MsiExec.exe /I{CFEF48A8-BFB8-3EAC-8BA5-DE4F8AA267CE}'),\n",
       " InstalledApplication(name='HP Power Manager', version='1.4.7', install_date=datetime.date(2022, 5, 25), install_location='', install_source=WindowsPath('C:/SWSetup/SP56215'), modify_path='MsiExec.exe /I{D8BCE5B9-67CF-4F3F-93AE-3ACC754C72EB}', publisher='Hewlett-Packard Company', uninstall_string='MsiExec.exe /I{D8BCE5B9-67CF-4F3F-93AE-3ACC754C72EB}'),\n",
       " InstalledApplication(name='IDT Audio', version='1.0.6425.0', install_date=datetime.date(2022, 5, 24), install_location=WindowsPath('C:/Program Files/IDT'), install_source=WindowsPath('c:/swsetup/SP59154'), modify_path='\"C:\\\\Program Files (x86)\\\\InstallShield Installation Information\\\\{E3A5A8AB-58F6-45FF-AFCB-C9AE18C05001}\\\\setup.exe\" -remove', publisher='IDT', uninstall_string='\"C:\\\\Program Files (x86)\\\\InstallShield Installation Information\\\\{E3A5A8AB-58F6-45FF-AFCB-C9AE18C05001}\\\\setup.exe\" -remove -removeonly'),\n",
       " InstalledApplication(name='HP On Screen Display', version='1.3.5', install_date=datetime.date(2022, 5, 25), install_location='', install_source=WindowsPath('C:/SWSetup/SP55152'), modify_path='MsiExec.exe /I{ED1BD69A-07E3-418C-91F1-D856582581BF}', publisher='Hewlett-Packard Company', uninstall_string='MsiExec.exe /I{ED1BD69A-07E3-418C-91F1-D856582581BF}'),\n",
       " InstalledApplication(name='HP Support Solutions Framework', version='12.19.53.13', install_date=datetime.date(2022, 5, 24), install_location='', install_source=WindowsPath('C:/Program Files (x86)/Hewlett-Packard/HP Support Solutions'), modify_path='MsiExec.exe /X{FF81F9EB-61C1-48A4-8EE5-45C5D61BC0E0}', publisher='HP Inc.', uninstall_string='MsiExec.exe /X{FF81F9EB-61C1-48A4-8EE5-45C5D61BC0E0}')]"
      ]
     },
     "execution_count": 96,
     "metadata": {},
     "output_type": "execute_result"
    }
   ],
   "source": [
    "!pip install winapps\n",
    "import winapps\n",
    "list(winapps.list_installed())"
   ]
  },
  {
   "cell_type": "code",
   "execution_count": null,
   "id": "31d36d9e",
   "metadata": {},
   "outputs": [],
   "source": [
    "q13 : Write a code to convert any text in to voice "
   ]
  },
  {
   "cell_type": "code",
   "execution_count": null,
   "id": "22f68c3c",
   "metadata": {},
   "outputs": [],
   "source": [
    "# Import the required module for text \n",
    "# to speech conversion\n",
    "\n",
    "from gtts import gTTS\n",
    "  \n",
    "# This module is imported so that we can \n",
    "# play the converted audio\n",
    "import os\n",
    "  \n",
    "# The text that you want to convert to audio\n",
    "mytext = 'Welcome to my python code!'\n",
    "  \n",
    "# Language in which you want to convert\n",
    "language = 'en'\n",
    "  \n",
    "# Passing the text and language to the engine, \n",
    "# here we have marked slow=False. Which tells \n",
    "# the module that the converted audio should \n",
    "# have a high speed\n",
    "myobj = gTTS(text=mytext, lang=language, slow=False)\n",
    "# Saving the converted audio in a mp3 file named\n",
    "# welcome \n",
    "myobj.save(\"welcome.mp3\")\n",
    "  \n",
    "# Playing the converted file\n",
    "os.system(\"welcome.mp3\")"
   ]
  },
  {
   "cell_type": "code",
   "execution_count": null,
   "id": "65934299",
   "metadata": {},
   "outputs": [],
   "source": [
    "q14 : you have to write a fun which will take string and return a len of \n",
    "it without using a inbuilt fun len"
   ]
  },
  {
   "cell_type": "code",
   "execution_count": 2,
   "id": "c937c97b",
   "metadata": {},
   "outputs": [
    {
     "data": {
      "text/plain": [
       "8"
      ]
     },
     "execution_count": 2,
     "metadata": {},
     "output_type": "execute_result"
    }
   ],
   "source": [
    "def str_len(s):\n",
    "    count = 0\n",
    "    for i in s:\n",
    "        count=count+1\n",
    "    return count\n",
    "str_len(\"himanshu\")"
   ]
  },
  {
   "cell_type": "code",
   "execution_count": null,
   "id": "6a5524a6",
   "metadata": {},
   "outputs": [],
   "source": [
    "q15 :write a fun which will be able to print an index of all premitive element which you will pass "
   ]
  },
  {
   "cell_type": "code",
   "execution_count": 3,
   "id": "7d5916fe",
   "metadata": {},
   "outputs": [
    {
     "name": "stdout",
     "output_type": "stream",
     "text": [
      "0\n",
      "1\n",
      "2\n",
      "3\n"
     ]
    }
   ],
   "source": [
    "def print_prim(l):\n",
    "    for i in range(len(l)):\n",
    "        print(i)\n",
    "print_prim([4,5,6,7])    "
   ]
  },
  {
   "cell_type": "code",
   "execution_count": null,
   "id": "ec1050c8",
   "metadata": {},
   "outputs": [],
   "source": [
    "q16 : Write a fun which will take input as a dict and give me out as a list of all the values \n",
    "even in case of 2 level nesting it should work ."
   ]
  },
  {
   "cell_type": "code",
   "execution_count": 10,
   "id": "7a1901d5",
   "metadata": {},
   "outputs": [
    {
     "data": {
      "text/plain": [
       "['value', 'values', 'sudh', 'gafasd']"
      ]
     },
     "execution_count": 10,
     "metadata": {},
     "output_type": "execute_result"
    }
   ],
   "source": [
    "def dic_to_list(k):\n",
    "    l=[]\n",
    "    for i in d.values():\n",
    "        if type(i) != dict:\n",
    "            l.append(i)\n",
    "        if type(i) == dict:\n",
    "            for j in i.values():\n",
    "                l.append(j)\n",
    "    return l\n",
    "k={'k1':\"value\",'k2':\"values\",'k3':{'k12':\"sudh\",'k13':\"gafasd\"}}\n",
    "dic_to_list(k)"
   ]
  },
  {
   "cell_type": "code",
   "execution_count": null,
   "id": "dda6d1c8",
   "metadata": {},
   "outputs": [],
   "source": [
    "q17 : write a function which will take multiple list as a input and give me concatnation of all the element as \n",
    "and output"
   ]
  },
  {
   "cell_type": "code",
   "execution_count": null,
   "id": "e11245e3",
   "metadata": {},
   "outputs": [],
   "source": []
  },
  {
   "cell_type": "code",
   "execution_count": null,
   "id": "8a4c3b1d",
   "metadata": {},
   "outputs": [],
   "source": [
    "q18 : Write a function which will whould return list of all the file name from a directory . "
   ]
  },
  {
   "cell_type": "code",
   "execution_count": null,
   "id": "174e2114",
   "metadata": {},
   "outputs": [],
   "source": [
    "q19 : write a function whihc will be able to read a image file and show it to you ."
   ]
  },
  {
   "cell_type": "code",
   "execution_count": 11,
   "id": "23f01328",
   "metadata": {},
   "outputs": [
    {
     "name": "stdout",
     "output_type": "stream",
     "text": [
      "Collecting opencv-python\n",
      "  Downloading opencv_python-4.6.0.66-cp36-abi3-win_amd64.whl (35.6 MB)\n",
      "Requirement already satisfied: numpy>=1.14.5 in c:\\users\\himanshu\\anaconda3\\lib\\site-packages (from opencv-python) (1.20.1)\n",
      "Installing collected packages: opencv-python\n",
      "Successfully installed opencv-python-4.6.0.66\n"
     ]
    }
   ],
   "source": [
    "!pip install opencv-python"
   ]
  },
  {
   "cell_type": "code",
   "execution_count": 1,
   "id": "b69d6bce",
   "metadata": {},
   "outputs": [
    {
     "ename": "error",
     "evalue": "OpenCV(4.6.0) D:\\a\\opencv-python\\opencv-python\\opencv\\modules\\highgui\\src\\window.cpp:967: error: (-215:Assertion failed) size.width>0 && size.height>0 in function 'cv::imshow'\n",
     "output_type": "error",
     "traceback": [
      "\u001b[1;31m---------------------------------------------------------------------------\u001b[0m",
      "\u001b[1;31merror\u001b[0m                                     Traceback (most recent call last)",
      "\u001b[1;32m<ipython-input-1-844de8bfd4c1>\u001b[0m in \u001b[0;36m<module>\u001b[1;34m\u001b[0m\n\u001b[0;32m      6\u001b[0m     \u001b[0mcv2\u001b[0m\u001b[1;33m.\u001b[0m\u001b[0mdestroyWindow\u001b[0m\u001b[1;33m(\u001b[0m\u001b[1;34m'myimg'\u001b[0m\u001b[1;33m)\u001b[0m\u001b[1;33m\u001b[0m\u001b[1;33m\u001b[0m\u001b[0m\n\u001b[0;32m      7\u001b[0m \u001b[1;33m\u001b[0m\u001b[0m\n\u001b[1;32m----> 8\u001b[1;33m \u001b[0mread_img\u001b[0m\u001b[1;33m(\u001b[0m\u001b[1;34m\"map_268c_2.jpg\"\u001b[0m\u001b[1;33m)\u001b[0m\u001b[1;33m\u001b[0m\u001b[1;33m\u001b[0m\u001b[0m\n\u001b[0m",
      "\u001b[1;32m<ipython-input-1-844de8bfd4c1>\u001b[0m in \u001b[0;36mread_img\u001b[1;34m(file)\u001b[0m\n\u001b[0;32m      2\u001b[0m \u001b[1;32mdef\u001b[0m \u001b[0mread_img\u001b[0m\u001b[1;33m(\u001b[0m\u001b[0mfile\u001b[0m\u001b[1;33m)\u001b[0m\u001b[1;33m:\u001b[0m\u001b[1;33m\u001b[0m\u001b[1;33m\u001b[0m\u001b[0m\n\u001b[0;32m      3\u001b[0m     \u001b[0ma\u001b[0m\u001b[1;33m=\u001b[0m\u001b[0mcv2\u001b[0m\u001b[1;33m.\u001b[0m\u001b[0mimread\u001b[0m\u001b[1;33m(\u001b[0m\u001b[0mfile\u001b[0m\u001b[1;33m)\u001b[0m\u001b[1;33m\u001b[0m\u001b[1;33m\u001b[0m\u001b[0m\n\u001b[1;32m----> 4\u001b[1;33m     \u001b[0mcv2\u001b[0m\u001b[1;33m.\u001b[0m\u001b[0mimshow\u001b[0m\u001b[1;33m(\u001b[0m\u001b[1;34m\"myimg\"\u001b[0m\u001b[1;33m,\u001b[0m\u001b[0ma\u001b[0m\u001b[1;33m)\u001b[0m\u001b[1;33m\u001b[0m\u001b[1;33m\u001b[0m\u001b[0m\n\u001b[0m\u001b[0;32m      5\u001b[0m     \u001b[0mcv2\u001b[0m\u001b[1;33m.\u001b[0m\u001b[0mwaitkey\u001b[0m\u001b[1;33m(\u001b[0m\u001b[1;36m5000\u001b[0m\u001b[1;33m)\u001b[0m\u001b[1;33m\u001b[0m\u001b[1;33m\u001b[0m\u001b[0m\n\u001b[0;32m      6\u001b[0m     \u001b[0mcv2\u001b[0m\u001b[1;33m.\u001b[0m\u001b[0mdestroyWindow\u001b[0m\u001b[1;33m(\u001b[0m\u001b[1;34m'myimg'\u001b[0m\u001b[1;33m)\u001b[0m\u001b[1;33m\u001b[0m\u001b[1;33m\u001b[0m\u001b[0m\n",
      "\u001b[1;31merror\u001b[0m: OpenCV(4.6.0) D:\\a\\opencv-python\\opencv-python\\opencv\\modules\\highgui\\src\\window.cpp:967: error: (-215:Assertion failed) size.width>0 && size.height>0 in function 'cv::imshow'\n"
     ]
    }
   ],
   "source": [
    "import cv2\n",
    "def read_img(file):\n",
    "    a=cv2.imread(file)\n",
    "    cv2.imshow(\"myimg\",a)\n",
    "    cv2.waitkey(5000)\n",
    "    cv2.destroyWindow('myimg')\n",
    "\n",
    "read_img(\"map_268c_2.jpg\")"
   ]
  },
  {
   "cell_type": "code",
   "execution_count": null,
   "id": "e1ea8d55",
   "metadata": {},
   "outputs": [],
   "source": [
    "q20 : write a function by which you will be able to append two PDF files . "
   ]
  },
  {
   "cell_type": "code",
   "execution_count": null,
   "id": "0f3db8fa",
   "metadata": {},
   "outputs": [],
   "source": [
    "q21 : write a function which can help you to filter only word file from a directory . "
   ]
  },
  {
   "cell_type": "code",
   "execution_count": null,
   "id": "e2611a22",
   "metadata": {},
   "outputs": [],
   "source": [
    "q22 : write a function which can read video file and play for you."
   ]
  },
  {
   "cell_type": "code",
   "execution_count": null,
   "id": "4ef61b74",
   "metadata": {},
   "outputs": [],
   "source": [
    "q23 : write a function which will be able to shutdonw your system . "
   ]
  },
  {
   "cell_type": "code",
   "execution_count": null,
   "id": "892f7fc6",
   "metadata": {},
   "outputs": [],
   "source": [
    "q24 : Write a function which will whould return list of all the file name from a directory .       "
   ]
  },
  {
   "cell_type": "code",
   "execution_count": null,
   "id": "25986919",
   "metadata": {},
   "outputs": [],
   "source": [
    "q25 : write a function whihc will be able to access your mail . "
   ]
  }
 ],
 "metadata": {
  "kernelspec": {
   "display_name": "Python 3",
   "language": "python",
   "name": "python3"
  },
  "language_info": {
   "codemirror_mode": {
    "name": "ipython",
    "version": 3
   },
   "file_extension": ".py",
   "mimetype": "text/x-python",
   "name": "python",
   "nbconvert_exporter": "python",
   "pygments_lexer": "ipython3",
   "version": "3.8.8"
  }
 },
 "nbformat": 4,
 "nbformat_minor": 5
}
