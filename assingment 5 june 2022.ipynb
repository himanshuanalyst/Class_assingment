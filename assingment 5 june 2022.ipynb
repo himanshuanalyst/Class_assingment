{
 "cells": [
  {
   "cell_type": "code",
   "execution_count": null,
   "id": "e3d749fe",
   "metadata": {},
   "outputs": [],
   "source": [
    "q1 : Try to print a prime number in between 1 to 1000\n",
    "q2 : Try to write a function which  is equivalent  to print function in python\n",
    "q3 : Try to write a function which is a replica of list append , extend and pop function \n",
    "q4 : Try to write a lambda function which can return a concatination of all the string that we will pass\n",
    "q5 : Try to write a lambda function which can return list of square of all the data between 1-100 \n",
    "q6 : Try to write a 10 Different different example of lambda function with a choice of your taks \n",
    "q7 : Try to write a funtion whihc can perform a read operation from .txt file "
   ]
  },
  {
   "cell_type": "code",
   "execution_count": 233,
   "id": "a85d9a9f",
   "metadata": {},
   "outputs": [
    {
     "name": "stdout",
     "output_type": "stream",
     "text": [
      "[2, 3, 5, 7, 11, 13, 17, 19, 23, 29, 31, 37, 41, 43, 47, 53, 59, 61, 67, 71, 73, 79, 83, 89, 97, 101, 103, 107, 109, 113, 127, 131, 137, 139, 149, 151, 157, 163, 167, 173, 179, 181, 191, 193, 197, 199, 211, 223, 227, 229, 233, 239, 241, 251, 257, 263, 269, 271, 277, 281, 283, 293, 307, 311, 313, 317, 331, 337, 347, 349, 353, 359, 367, 373, 379, 383, 389, 397, 401, 409, 419, 421, 431, 433, 439, 443, 449, 457, 461, 463, 467, 479, 487, 491, 499, 503, 509, 521, 523, 541, 547, 557, 563, 569, 571, 577, 587, 593, 599, 601, 607, 613, 617, 619, 631, 641, 643, 647, 653, 659, 661, 673, 677, 683, 691, 701, 709, 719, 727, 733, 739, 743, 751, 757, 761, 769, 773, 787, 797, 809, 811, 821, 823, 827, 829, 839, 853, 857, 859, 863, 877, 881, 883, 887, 907, 911, 919, 929, 937, 941, 947, 953, 967, 971, 977, 983, 991, 997]\n"
     ]
    }
   ],
   "source": [
    "# q1 : Try to print a prime number in between 1 to 1000\n",
    "def prime_number():\n",
    "    n=[]\n",
    "    for i in range(2,1000):\n",
    "        for j in range(2,i):\n",
    "            if i%j==0:\n",
    "                break\n",
    "        else:\n",
    "            n.append(i)\n",
    "    return n\n",
    "print(prime_number())"
   ]
  },
  {
   "cell_type": "code",
   "execution_count": 235,
   "id": "e5ba9201",
   "metadata": {},
   "outputs": [
    {
     "data": {
      "text/plain": [
       "'himanshu'"
      ]
     },
     "execution_count": 235,
     "metadata": {},
     "output_type": "execute_result"
    }
   ],
   "source": [
    "# q2 : Try to write a function which  is equivalent  to print function in python\n",
    "def chhappo(m):\n",
    "    return m\n",
    "chhappo(\"himanshu\")"
   ]
  },
  {
   "cell_type": "code",
   "execution_count": 250,
   "id": "02b148f5",
   "metadata": {},
   "outputs": [
    {
     "data": {
      "text/plain": [
       "[5, 6, 7, 9, 1]"
      ]
     },
     "execution_count": 250,
     "metadata": {},
     "output_type": "execute_result"
    }
   ],
   "source": [
    "# q3 : Try to write a function which is a replica of list append , extend and pop function\n",
    "# append\n",
    "def append_replica(l,n):\n",
    "        l.insert(len(l)+1,n)\n",
    "        return l"
   ]
  },
  {
   "cell_type": "code",
   "execution_count": 49,
   "id": "bee039a7",
   "metadata": {},
   "outputs": [
    {
     "data": {
      "text/plain": [
       "[5, 6, 7, 9, 'him']"
      ]
     },
     "execution_count": 49,
     "metadata": {},
     "output_type": "execute_result"
    }
   ],
   "source": [
    "append_replica([5,6,7,9],\"him\")"
   ]
  },
  {
   "cell_type": "code",
   "execution_count": 36,
   "id": "88e38a02",
   "metadata": {
    "scrolled": true
   },
   "outputs": [],
   "source": [
    "# extend\n",
    "def last_jodo(l,m):\n",
    "    for i in m:\n",
    "        l.append(i)\n",
    "    return l"
   ]
  },
  {
   "cell_type": "code",
   "execution_count": 37,
   "id": "89d53439",
   "metadata": {},
   "outputs": [
    {
     "data": {
      "text/plain": [
       "['him', 'jik', 0, 1, 2, 3, 4, 5]"
      ]
     },
     "execution_count": 37,
     "metadata": {},
     "output_type": "execute_result"
    }
   ],
   "source": [
    "last_jodo([\"him\",\"jik\"],[0,1,2,3,4,5])"
   ]
  },
  {
   "cell_type": "code",
   "execution_count": 41,
   "id": "ee835b45",
   "metadata": {},
   "outputs": [],
   "source": [
    "# Pop function\n",
    "def kato(l,n):\n",
    "    t=l[n]\n",
    "    l.remove(t)\n",
    "    return t,l"
   ]
  },
  {
   "cell_type": "code",
   "execution_count": 42,
   "id": "13c841c6",
   "metadata": {},
   "outputs": [
    {
     "data": {
      "text/plain": [
       "(2, [0, 1, 3, 4, 5])"
      ]
     },
     "execution_count": 42,
     "metadata": {},
     "output_type": "execute_result"
    }
   ],
   "source": [
    "kato([0,1,2,3,4,5],2)"
   ]
  },
  {
   "cell_type": "code",
   "execution_count": 236,
   "id": "68ca7f56",
   "metadata": {},
   "outputs": [
    {
     "data": {
      "text/plain": [
       "'himvipinpratap'"
      ]
     },
     "execution_count": 236,
     "metadata": {},
     "output_type": "execute_result"
    }
   ],
   "source": [
    "# q4 : Try to write a lambda function which can return a concatination of all the string that we will pass\n",
    "def jodo(*arws):\n",
    "    z=\"\"\n",
    "    for i in range(len(arws)):\n",
    "                   z=z+arws[i]\n",
    "    return z\n",
    "jodo(\"him\",\"vipin\",\"pratap\")"
   ]
  },
  {
   "cell_type": "code",
   "execution_count": 228,
   "id": "274bac78",
   "metadata": {},
   "outputs": [],
   "source": [
    "x = lambda *s,z=\"\":[z+s[i] for i in range(len(s))]\n",
    "                 "
   ]
  },
  {
   "cell_type": "code",
   "execution_count": 229,
   "id": "dcc9fd23",
   "metadata": {},
   "outputs": [
    {
     "data": {
      "text/plain": [
       "['h', 'k']"
      ]
     },
     "execution_count": 229,
     "metadata": {},
     "output_type": "execute_result"
    }
   ],
   "source": [
    "x(\"h\",\"k\")\n"
   ]
  },
  {
   "cell_type": "code",
   "execution_count": 205,
   "id": "b12554d3",
   "metadata": {},
   "outputs": [],
   "source": [
    "# q5 : Try to write a lambda function which can return list of square of all the data between 1-100 \n",
    "q5=lambda: [i**2 for i in range(100)]"
   ]
  },
  {
   "cell_type": "code",
   "execution_count": 231,
   "id": "c311f38f",
   "metadata": {},
   "outputs": [
    {
     "name": "stdout",
     "output_type": "stream",
     "text": [
      "[0, 1, 4, 9, 16, 25, 36, 49, 64, 81, 100, 121, 144, 169, 196, 225, 256, 289, 324, 361, 400, 441, 484, 529, 576, 625, 676, 729, 784, 841, 900, 961, 1024, 1089, 1156, 1225, 1296, 1369, 1444, 1521, 1600, 1681, 1764, 1849, 1936, 2025, 2116, 2209, 2304, 2401, 2500, 2601, 2704, 2809, 2916, 3025, 3136, 3249, 3364, 3481, 3600, 3721, 3844, 3969, 4096, 4225, 4356, 4489, 4624, 4761, 4900, 5041, 5184, 5329, 5476, 5625, 5776, 5929, 6084, 6241, 6400, 6561, 6724, 6889, 7056, 7225, 7396, 7569, 7744, 7921, 8100, 8281, 8464, 8649, 8836, 9025, 9216, 9409, 9604, 9801]\n"
     ]
    }
   ],
   "source": [
    "print(q5())"
   ]
  },
  {
   "cell_type": "code",
   "execution_count": null,
   "id": "9dbcea7f",
   "metadata": {},
   "outputs": [],
   "source": [
    "q6 : Try to write a 10 Different different example of lambda function with a choice of your taks"
   ]
  },
  {
   "cell_type": "code",
   "execution_count": 279,
   "id": "d7c5511c",
   "metadata": {},
   "outputs": [],
   "source": [
    "# q7 : Try to write a funtion whihc can perform a read operation from .txt file\n",
    "def padho(name):\n",
    "    x=open(name)\n",
    "    return x.read()"
   ]
  },
  {
   "cell_type": "code",
   "execution_count": 280,
   "id": "2bdc8daf",
   "metadata": {},
   "outputs": [
    {
     "data": {
      "text/plain": [
       "'chalo kuch to khula'"
      ]
     },
     "execution_count": 280,
     "metadata": {},
     "output_type": "execute_result"
    }
   ],
   "source": [
    "padho(\"faltu.txt\")"
   ]
  }
 ],
 "metadata": {
  "kernelspec": {
   "display_name": "Python 3 (ipykernel)",
   "language": "python",
   "name": "python3"
  },
  "language_info": {
   "codemirror_mode": {
    "name": "ipython",
    "version": 3
   },
   "file_extension": ".py",
   "mimetype": "text/x-python",
   "name": "python",
   "nbconvert_exporter": "python",
   "pygments_lexer": "ipython3",
   "version": "3.9.12"
  }
 },
 "nbformat": 4,
 "nbformat_minor": 5
}
